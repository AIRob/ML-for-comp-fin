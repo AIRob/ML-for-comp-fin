{
 "cells": [
  {
   "cell_type": "markdown",
   "metadata": {},
   "source": [
    "# Assignment 2: Validation\n",
    "\n",
    "Name: Karthik Iyer <br>"
   ]
  },
  {
   "cell_type": "markdown",
   "metadata": {},
   "source": [
    "## Load Data and Define Functions\n"
   ]
  },
  {
   "cell_type": "code",
   "execution_count": 1,
   "metadata": {},
   "outputs": [],
   "source": [
    "import numpy as np\n",
    "import scipy\n",
    "import matplotlib.pyplot as plt\n",
    "from numpy import linalg as LA\n",
    "from sklearn.preprocessing import normalize\n",
    "from timeit import default_timer as timer "
   ]
  },
  {
   "cell_type": "markdown",
   "metadata": {},
   "source": [
    "The log loss function for a binary classification problem is \n",
    "$$- \\frac{1}{m} \\sum_{i = 1}^m \\left [s_i \\log(p_i) + (1 - s_i) \\log (1 -p_i) \\right]$$\n",
    "where $s \\in \\{0 ,1 \\}^m$ is the vector of outcomes and $p \\in [0 ,1]^m$ is the probability vector"
   ]
  },
  {
   "cell_type": "code",
   "execution_count": 2,
   "metadata": {
    "collapsed": true
   },
   "outputs": [],
   "source": [
    "# Function that reads data\n",
    "\n",
    "def readdata(filename, datatype):\n",
    "    fid = open(filename, \"rb\")\n",
    "    data = np.fromfile(fid, datatype)\n",
    "    fid.close()\n",
    "    return data\n",
    "\n",
    "# Function used for model assessment\n",
    "\n",
    "def logloss(x, f, s):\n",
    "    r = np.dot(f, x)\n",
    "    val = 0.0\n",
    "    prob_vector = 1.0/ (1.0 + np.exp(-r))\n",
    "    for i, p in enumerate(prob_vector):\n",
    "        if s[i] == 1:\n",
    "            val += -np.log(p)\n",
    "        else:\n",
    "            val += -np.log(1 - p)        \n",
    "    return val/len(s)"
   ]
  },
  {
   "cell_type": "code",
   "execution_count": 3,
   "metadata": {
    "collapsed": true
   },
   "outputs": [],
   "source": [
    "n_features = 50\n",
    "m_train = 2000\n",
    "m_validate = 500\n",
    "m_test = 500\n",
    "\n",
    "train_f = readdata(\"train_features.bin\", np.float64)\n",
    "train_s = readdata(\"train_target.bin\", np.float64)\n",
    "validate_f = readdata(\"validate_features.bin\", np.float64)\n",
    "validate_s = readdata(\"validate_target.bin\", np.float64)\n",
    "test_f = readdata(\"test_features.bin\", np.float64)\n",
    "test_s = readdata(\"test_target.bin\", np.float64)\n",
    "\n",
    "train_f = np.reshape(train_f, (n_features, m_train)).T \n",
    "validate_f = np.reshape(validate_f, (n_features, m_validate)).T\n",
    "test_f = np.reshape(test_f, (n_features, m_test)).T\n",
    "\n",
    "# Normalize\n",
    "train_f = normalize(train_f, axis = 0, norm = 'l2') # column normalization\n",
    "validate_f = normalize(validate_f, axis = 0, norm = 'l2')\n",
    "test_f = normalize(test_f, axis = 0, norm = 'l2')"
   ]
  },
  {
   "cell_type": "markdown",
   "metadata": {},
   "source": [
    "## Define Function for Smooth Part of Logistic Regression\n",
    "$$\\text{lgr}(x) = \\sum_{i=1}^m\\left\\{\\log\\left(1+\\exp{\\left\\langle f_i, x\\right\\rangle}\\right) - s_i\\left\\langle f_i,x\\right\\rangle\\right\\}$$\n",
    "\n",
    "First, we code up the logistic regression function, its gradient and hessian for the given logistic regression function.\n",
    "\n",
    "Note that $$\\nabla \\text{lgr} = F^T(p - s)$$ where $p = (p_1, p_2,...,p_m)$ with $p_i = \\frac{1}{1 + e^{-r_i}}$ and \n",
    "$$\\nabla^2 \\text{lgr}  = F^T D F $$ where $D$ is the $m \\times m$ diagonal matrix with $jth$ diagonal entry equal to $p_j (1- p_j)$. "
   ]
  },
  {
   "cell_type": "code",
   "execution_count": 4,
   "metadata": {
    "collapsed": true
   },
   "outputs": [],
   "source": [
    "def lgr_func(x, f, s):\n",
    "    r = np.dot(f, x)\n",
    "    sum_of_logs_term = np.sum(np.log(1.0 + np.exp(r)))\n",
    "    response_term = np.inner(s, r)\n",
    "    return sum_of_logs_term - response_term\n",
    "    \n",
    "    \n",
    "def lgr_grad(x, f, s):\n",
    "    r = np.dot(f, x)\n",
    "    p = 1.0/(1.0 + np.exp(-r)) # Sigmoid function\n",
    "    return np.dot(f.T, p - s)\n",
    "\n",
    "def lgr_hess(x, f, s):\n",
    "    r = np.dot(f, x)\n",
    "    p1 = 1.0/ (1.0 + np.exp(-r))\n",
    "    p2 = 1.0 - p1\n",
    "    p_prime = np.multiply(p1, p2)\n",
    "    prob_diag_matrix = np.diag(np.ravel(p_prime))\n",
    "    return np.dot(f.T, np.dot(prob_diag_matrix, f))\n"
   ]
  },
  {
   "cell_type": "markdown",
   "metadata": {},
   "source": [
    "## Problem 3: Newton's Method\n",
    "Fill in the blanks to implement Newton algorithm to solve logistic regression problem,\n",
    "$$\\min_x f_{\\ell_2}(x):= \\sum_{i=1}^m\\left\\{\\log\\left(1+\\exp{\\left\\langle f_i, x\\right\\rangle}\\right) - s_i\\left\\langle f_i,x\\right\\rangle\\right\\} + \\frac{\\lambda}{2}\\|x\\|^2$$\n",
    "where $s_i\\in\\{0,1\\}$ indicates buy or sell.\n",
    "\n",
    "For this problem we will use real data  from [Numerai](https://numer.ai/leaderboard).\n",
    "The data set consist of three parts, training data, validation data and test data."
   ]
  },
  {
   "cell_type": "markdown",
   "metadata": {},
   "source": [
    "### Train and Validate Data"
   ]
  },
  {
   "cell_type": "code",
   "execution_count": 5,
   "metadata": {
    "collapsed": true
   },
   "outputs": [],
   "source": [
    "# Define functions\n",
    "\n",
    "def lgr_l2_func(x, f, s, lambda_logistic):\n",
    "    return lgr_func(x, f, s) + 0.5*lambda_logistic*np.inner(x, x)\n",
    "\n",
    "def lgr_l2_grad(x, f, s, lambda_logistic):\n",
    "    return lgr_grad(x, f, s) + lambda_logistic*x\n",
    "\n",
    "def lgr_l2_hess(x, f, s, lambda_logistic):\n",
    "    return lgr_hess(x, f, s) + lambda_logistic*np.eye(len(x))  "
   ]
  },
  {
   "cell_type": "code",
   "execution_count": 6,
   "metadata": {
    "collapsed": true
   },
   "outputs": [],
   "source": [
    "# Define Newton Solver\n",
    "\n",
    "def Newton(x, f, s, lambda_logistic):\n",
    "    \n",
    "    itm = 100\n",
    "    tol = 1e-12\n",
    "    g = lgr_l2_grad(x, f, s, lambda_logistic)\n",
    "    H = lgr_l2_hess(x, f, s, lambda_logistic)\n",
    "    obj = 0.0\n",
    "    err = float('Inf')\n",
    "    for i in range(itm):\n",
    "        \n",
    "        # Implement Newton's step. Note that Newton's step involves inverting the Hessian\n",
    "        # If the Hessian has big size, inverting is not feasible. So, we solve the linear system\n",
    "        # H*delta_x = - g and set x = x + delta_x. This is mathematically equivalent to what we \n",
    "        # set out to do. \n",
    "        \n",
    "        delta_x = LA.solve(H, -g)\n",
    "        x = x + delta_x\n",
    "        g = lgr_l2_grad(x, f, s, lambda_logistic)\n",
    "        H = lgr_l2_hess(x, f, s, lambda_logistic)\n",
    "        err = LA.norm(g, 2)\n",
    "        if err < tol:\n",
    "            break        \n",
    "    return x"
   ]
  },
  {
   "cell_type": "code",
   "execution_count": 7,
   "metadata": {
    "collapsed": true
   },
   "outputs": [],
   "source": [
    "lambda_logistic_set = np.linspace(0.01, 0.001, num = 21)\n",
    "x1_set = np.zeros((len(lambda_logistic_set), n_features))\n",
    "v1_set = np.zeros(len(lambda_logistic_set))\n",
    "\n",
    "# Main part of Newton's iteration. Let's also time this snippet!\n",
    "start = timer()\n",
    "for i, lambda_logistic in enumerate(lambda_logistic_set):\n",
    "    x1 = x1_set[i]\n",
    "    if i > 0:\n",
    "        x1 = x1_set[i-1]\n",
    "    x1_set[i] = Newton(x1, train_f, train_s, lambda_logistic)\n",
    "    v1_set[i] = logloss(x1_set[i], validate_f, validate_s)\n",
    "end = timer()"
   ]
  },
  {
   "cell_type": "code",
   "execution_count": 8,
   "metadata": {},
   "outputs": [
    {
     "data": {
      "text/plain": [
       "1.7197814271067422"
      ]
     },
     "execution_count": 8,
     "metadata": {},
     "output_type": "execute_result"
    }
   ],
   "source": [
    "end - start # answer in seconds"
   ]
  },
  {
   "cell_type": "code",
   "execution_count": 9,
   "metadata": {},
   "outputs": [
    {
     "data": {
      "image/png": "[encoded data removed]",
      "text/plain": [
       "<matplotlib.figure.Figure at 0x9ddef60>"
      ]
     },
     "metadata": {},
     "output_type": "display_data"
    }
   ],
   "source": [
    "plt.plot(lambda_logistic_set, v1_set)\n",
    "plt.xlabel('Lambda values')\n",
    "plt.ylabel('Log loss')\n",
    "plt.title('Log loss with Newtons method')\n",
    "plt.show()"
   ]
  },
  {
   "cell_type": "code",
   "execution_count": 10,
   "metadata": {
    "collapsed": true
   },
   "outputs": [],
   "source": [
    "# Choose the index with smallest validation prediction error. \n",
    "ind = np.argmin(v1_set)\n",
    "\n",
    "# Choose the regularization parameter that gives the lowest prediction error.\n",
    "lambda_one = lambda_logistic_set[ind]\n",
    "\n",
    "# Threshold validation met as prediction error is smallest. Exit the training.\n",
    "x1 = x1_set[ind]"
   ]
  },
  {
   "cell_type": "markdown",
   "metadata": {},
   "source": [
    "### Test Data"
   ]
  },
  {
   "cell_type": "code",
   "execution_count": 11,
   "metadata": {},
   "outputs": [
    {
     "data": {
      "text/plain": [
       "0.69642675615051364"
      ]
     },
     "execution_count": 11,
     "metadata": {},
     "output_type": "execute_result"
    }
   ],
   "source": [
    "# Compute the test log loss\n",
    "logloss(x1, test_f, test_s)"
   ]
  },
  {
   "cell_type": "markdown",
   "metadata": {
    "collapsed": true
   },
   "source": [
    "## Problem 4: FISTA\n",
    "Implement the FISTA algorithm to solve logistic regression problem,\n",
    "$$\\min_x \\sum_{i=1}^m\\left\\{\\log\\left(1+\\exp{\\left\\langle f_i, x\\right\\rangle}\\right) - s_i\\left\\langle f_i,x\\right\\rangle\\right\\} + \\lambda g(x).$$\n",
    "Choose your favorite $g$ and try to get the test error as low as possible."
   ]
  },
  {
   "cell_type": "markdown",
   "metadata": {},
   "source": [
    "We choose the following 3 different $g$ and run FISTA on $f(x) + \\lambda g_k(x)$. \n",
    "\n",
    " $g_1 = t ||x||_1 + (1-t)||x||^2$.\n",
    " \n",
    " $g_2 = ||x||_2.$\n",
    " \n",
    " $g_3 = \\rho_c(x)$, where $\\rho_c$ is the Huber function with c = 40. \n",
    " "
   ]
  },
  {
   "cell_type": "code",
   "execution_count": 12,
   "metadata": {
    "collapsed": true
   },
   "outputs": [],
   "source": [
    "# Define functions and hyper-parameters.\n",
    "\n",
    "def lgr_func_with_g1(x, f, s, t = 0):\n",
    "    smooth_part = lgr_func(x, f, s)\n",
    "    g1 = t*LA.norm(x, 1) + (1- t)*np.inner(x, x)\n",
    "    return smooth_part + g1\n",
    "\n",
    "def lgr_func_with_g2(x, f, s):\n",
    "    smooth_part = lgr_func(x, f, s)\n",
    "    g2 =  LA.norm(x, 2)\n",
    "    return smooth_part + g2\n",
    "\n",
    "\n",
    "c = 40.0 # Tuning hyper-parameter for Huber\n",
    "def lgr_func_with_g3(x, f, s):\n",
    "    smooth_part = lgr_func(x, f, s)\n",
    "    val = 0.0\n",
    "    for i in range(len(x)):\n",
    "        if x[i] > c:\n",
    "            val += c*abs(x[i]) - 0.5*c*c\n",
    "        else:\n",
    "            val += 0.5*x[i]*x[i]\n",
    "    return smooth_part + val"
   ]
  },
  {
   "cell_type": "code",
   "execution_count": 13,
   "metadata": {
    "collapsed": true
   },
   "outputs": [],
   "source": [
    "# Compute proxes\n",
    "\n",
    "def prox_g1(x, kappa, t = 0):  \n",
    "    z = np.zeros(len(x))\n",
    "    for i in range(len(x)):\n",
    "        if x[i] > kappa*t:\n",
    "            z[i] = (x[i] - kappa*t)/(1.0 + 2*kappa*(1 - t))\n",
    "        elif x[i] < -kappa*t:\n",
    "            z[i] = (x[i] + kappa*t)/(1.0 + 2*kappa*(1 - t))\n",
    "    return z \n",
    "\n",
    "def prox_g2(x, kappa):\n",
    "    z = np.zeros(len(x))\n",
    "    if LA.norm(x) > kappa:\n",
    "        z = x*(1 - (kappa/(LA.norm(x))))\n",
    "    return z\n",
    "\n",
    "def prox_g3(x, kappa):\n",
    "    z = np.zeros(len(x))\n",
    "    for i in range(len(x)):\n",
    "        if x[i] < -c*(1.0 + kappa):\n",
    "            z[i] = x[i] + c*kappa\n",
    "        elif x[i] > c*(1.0 + kappa):\n",
    "            z[i] = x[i] - c*kappa\n",
    "        else:\n",
    "            z[i] = x[i]/(1.0 + kappa)\n",
    "    return z "
   ]
  },
  {
   "cell_type": "code",
   "execution_count": 14,
   "metadata": {
    "collapsed": true
   },
   "outputs": [],
   "source": [
    "# Step size for FISTA\n",
    "beta = 0.25*LA.norm(train_f)*LA.norm(train_f) # beta for smooth part\n",
    "alpha = 1.0/ beta"
   ]
  },
  {
   "cell_type": "code",
   "execution_count": 15,
   "metadata": {
    "collapsed": true
   },
   "outputs": [],
   "source": [
    "# FISTA solver\n",
    "\n",
    "def FISTA(x, f, s, lambda_logistic, prox_friendly_g, itm = 2000, tol = 1e-6, t= 0):\n",
    "    count, a = 0, 1.0\n",
    "    y_old = x\n",
    "    y = x\n",
    "    err = float('Inf')\n",
    "    while count < itm:\n",
    "        x_old = x\n",
    "        y_old = y\n",
    "        \n",
    "        # Step 1: Update x\n",
    "        \n",
    "        # Calculate prox for lambda*g1 and update x\n",
    "        if prox_friendly_g == 1: \n",
    "            kappa = lambda_logistic*alpha\n",
    "            x = prox_g1(y_old - alpha*lgr_grad(y_old, f, s), kappa, t)\n",
    "            \n",
    "        # Calculate prox for lambda*g2 and update x    \n",
    "        elif prox_friendly_g == 2:  \n",
    "            kappa = lambda_logistic/beta\n",
    "            x = prox_g2(y_old - alpha*lgr_grad(y_old, f, s), kappa)\n",
    "        \n",
    "        # Calculate prox for lambda*g3 and update x\n",
    "        elif prox_friendly_g == 3: \n",
    "            kappa = lambda_logistic/beta\n",
    "            x = prox_g3(y_old - alpha*lgr_grad(y_old, f, s), kappa)\n",
    "            \n",
    "        # Step 2: Update a\n",
    "        a_new = 0.5*(1 + np.sqrt(1 + 4*a*a))\n",
    "        \n",
    "        # Step 3: Update y\n",
    "        ratio_factor = (a - 1)/a_new\n",
    "        y = x + ratio_factor*(x - x_old)\n",
    "        err = LA.norm(x - x_old)\n",
    "        a = a_new\n",
    "        if err < tol:\n",
    "            break   \n",
    "        count += 1\n",
    "    return x"
   ]
  },
  {
   "cell_type": "markdown",
   "metadata": {},
   "source": [
    "Next we run the FISTA and validate over $\\lambda$. The default value of $t$ is None. If $t$ is specified, for each value of $t$, the validation function computes the best log loss over $\\lambda$ and returns a tuple of best test log loss and the corresponding $\\lambda$. Otherwise, the validation function just returns the best test log loss over all $\\lambda$. "
   ]
  },
  {
   "cell_type": "code",
   "execution_count": 16,
   "metadata": {
    "collapsed": true
   },
   "outputs": [],
   "source": [
    "def validation_over_t(prox_friendly_g, lambda_logistic_set, t = None):\n",
    "    \n",
    "    x2_set = np.zeros((len(lambda_logistic_set), n_features))\n",
    "    v2_set = np.zeros(len(lambda_logistic_set))\n",
    "    \n",
    "    for i, lambda_logistic in enumerate(lambda_logistic_set):\n",
    "        x2 = x2_set[i]\n",
    "        if i > 0:\n",
    "            x2 = x2_set[i-1]\n",
    "        x2_set[i] = FISTA(x2, train_f, train_s, lambda_logistic, prox_friendly_g, t = t)\n",
    "        v2_set[i] = logloss(x2_set[i], validate_f, validate_s)\n",
    "        \n",
    "    ind = np.argmin(v2_set)\n",
    "    x2 = x2_set[ind]\n",
    "    return ((logloss(x2, test_f, test_s), lambda_logistic_set[ind])) "
   ]
  },
  {
   "cell_type": "code",
   "execution_count": 17,
   "metadata": {
    "collapsed": true
   },
   "outputs": [],
   "source": [
    "t = np.linspace(0, 1, num = 30)\n",
    "lambda_logistic_set = np.linspace(0.01, 0.001, num = 21)\n",
    "#lambda_logistic_set = np.linspace(0.01, 0.001, num = 100)"
   ]
  },
  {
   "cell_type": "markdown",
   "metadata": {},
   "source": [
    " ### Compute the test log loss for $g_1$."
   ]
  },
  {
   "cell_type": "code",
   "execution_count": 18,
   "metadata": {
    "collapsed": true
   },
   "outputs": [],
   "source": [
    "prox_friendly_g = 1\n",
    "log_loss_test = np.zeros(len(t))\n",
    "best_lambda_for_t = np.zeros(len(t))\n",
    "start = timer()\n",
    "\n",
    "for i, t0 in enumerate(t):\n",
    "    validation_result = validation_over_t(prox_friendly_g, lambda_logistic_set, t0)\n",
    "    log_loss_test[i]  = validation_result[0]\n",
    "    best_lambda_for_t[i] = validation_result[1]\n",
    "    \n",
    "end = timer()"
   ]
  },
  {
   "cell_type": "code",
   "execution_count": 19,
   "metadata": {},
   "outputs": [
    {
     "data": {
      "text/plain": [
       "(0.13793103448275862, 0.0023499999999999997)"
      ]
     },
     "execution_count": 19,
     "metadata": {},
     "output_type": "execute_result"
    }
   ],
   "source": [
    "idx = np.argmin(log_loss_test)\n",
    "(t[idx], best_lambda_for_t[idx])"
   ]
  },
  {
   "cell_type": "code",
   "execution_count": 20,
   "metadata": {},
   "outputs": [
    {
     "data": {
      "text/plain": [
       "236.13186864293056"
      ]
     },
     "execution_count": 20,
     "metadata": {},
     "output_type": "execute_result"
    }
   ],
   "source": [
    "end - start # time in seconds"
   ]
  },
  {
   "cell_type": "code",
   "execution_count": 23,
   "metadata": {},
   "outputs": [
    {
     "data": {
      "image/png": "[encoded data removed]",
      "text/plain": [
       "<matplotlib.figure.Figure at 0x9ddecf8>"
      ]
     },
     "metadata": {},
     "output_type": "display_data"
    }
   ],
   "source": [
    "# Plot logloss for g1\n",
    "\n",
    "plt.plot(t, log_loss_test)\n",
    "plt.title('Logloss for convex combination of 1 norm and square of 2 norm')\n",
    "plt.xlabel('weight for 1 norm')\n",
    "plt.ylabel('logloss')\n",
    "plt.show()"
   ]
  },
  {
   "cell_type": "markdown",
   "metadata": {},
   "source": [
    "Note the more weight in the 1 norm worsens the log loss. "
   ]
  },
  {
   "cell_type": "code",
   "execution_count": 25,
   "metadata": {},
   "outputs": [
    {
     "data": {
      "text/plain": [
       "0.69572123490420545"
      ]
     },
     "execution_count": 25,
     "metadata": {},
     "output_type": "execute_result"
    }
   ],
   "source": [
    "np.min(log_loss_test)"
   ]
  },
  {
   "cell_type": "markdown",
   "metadata": {},
   "source": [
    "### Compute the test log loss for $g_2$."
   ]
  },
  {
   "cell_type": "code",
   "execution_count": 26,
   "metadata": {},
   "outputs": [
    {
     "data": {
      "text/plain": [
       "0.74950295813809853"
      ]
     },
     "execution_count": 26,
     "metadata": {},
     "output_type": "execute_result"
    }
   ],
   "source": [
    "prox_friendly_g = 2 # ||x||_2 penalty\n",
    "validation_over_t(prox_friendly_g, lambda_logistic_set)[0]"
   ]
  },
  {
   "cell_type": "markdown",
   "metadata": {},
   "source": [
    "### Compute the test log loss for $g_3$."
   ]
  },
  {
   "cell_type": "code",
   "execution_count": 27,
   "metadata": {},
   "outputs": [
    {
     "data": {
      "text/plain": [
       "0.69642737105302122"
      ]
     },
     "execution_count": 27,
     "metadata": {},
     "output_type": "execute_result"
    }
   ],
   "source": [
    "prox_friendly_g = 3 # Huber penalty \n",
    "validation_over_t(prox_friendly_g, lambda_logistic_set)[0]"
   ]
  }
 ],
 "metadata": {
  "kernelspec": {
   "display_name": "Python 2",
   "language": "python",
   "name": "python2"
  },
  "language_info": {
   "codemirror_mode": {
    "name": "ipython",
    "version": 2
   },
   "file_extension": ".py",
   "mimetype": "text/x-python",
   "name": "python",
   "nbconvert_exporter": "python",
   "pygments_lexer": "ipython2",
   "version": "2.7.13"
  }
 },
 "nbformat": 4,
 "nbformat_minor": 2
}
