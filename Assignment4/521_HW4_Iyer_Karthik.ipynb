{
 "cells": [
  {
   "cell_type": "markdown",
   "metadata": {},
   "source": [
    "# Time Series: Assignment 4\n"
   ]
  },
  {
   "cell_type": "markdown",
   "metadata": {
    "collapsed": true
   },
   "source": [
    "##### Process Model\n",
    "$$\n",
    "\\begin{aligned}\n",
    "x_1 &= \\bar x + w_1\\\\\n",
    "x_t &= \\phi x_{t-1} + w_t, \\quad\\text{for }t = 2,\\ldots, T.\n",
    "\\end{aligned}\n",
    "$$\n",
    "where\n",
    "$$w_1 = \\epsilon_1,\\quad w_t = \\epsilon_t + \\theta\\epsilon_{t-1}, \\quad t = 2,\\ldots,T.$$ and $\\epsilon_t$ are independent Gaussian variables with mean $0$ and variance $\\sigma^2$.\n",
    "\n",
    "\n",
    "##### Measurement Model\n",
    "$$y_t = x_t + v_t,\\quad \\text{for }t = 1,\\ldots,T,$$\n",
    "where $v_t\\sim N(0,0)$.\n",
    "\n"
   ]
  },
  {
   "cell_type": "code",
   "execution_count": 9,
   "metadata": {
    "collapsed": true
   },
   "outputs": [],
   "source": [
    "## Generate data\n",
    "\n",
    "srand(123);\n",
    "x̄ = randn();\n",
    "σ = 0.1;\n",
    "ϕ = 0.5;\n",
    "θ = 0.2;\n",
    "\n",
    "T = 100;\n",
    "y = zeros(T);\n",
    "ϵ = σ*randn(T);\n",
    "y[1] = x̄ + ϵ[1];\n",
    "for t = 2:T\n",
    "    y[t] = ϕ*y[t-1] + θ*ϵ[t-1] + ϵ[t];\n",
    "end"
   ]
  },
  {
   "cell_type": "markdown",
   "metadata": {},
   "source": [
    "Our objective is to minimize $\\frac{1}{2} ||\\epsilon||^2$ where $\\epsilon = (\\epsilon_1,\\epsilon_2,...,\\epsilon_T$.  Note that $w_t = y_t - \\phi y_{t-1}$ and $H w = \\epsilon$ where \n",
    "\n",
    "$$H = \n",
    "\\begin{bmatrix}\n",
    "    1 & 0 & 0 & \\dots  & 0 \\\\\n",
    "    \\theta & 1 & 0 & \\dots  & 0 \\\\\n",
    "     0 & \\theta & 1 & \\dots  & 0 \\\\\n",
    "    \\vdots & \\vdots & \\vdots & \\ddots & \\vdots \\\\\n",
    "   0 & 0& 0 & \\dots \\theta & 1\n",
    "\\end{bmatrix}\n",
    "$$.\n",
    "\n",
    "With this observtion, let us form the objective function.\n"
   ]
  },
  {
   "cell_type": "code",
   "execution_count": 10,
   "metadata": {},
   "outputs": [
    {
     "data": {
      "text/plain": [
       "arma11_h (generic function with 1 method)"
      ]
     },
     "execution_count": 10,
     "metadata": {},
     "output_type": "execute_result"
    }
   ],
   "source": [
    "## Define objective function\n",
    "\n",
    "function arma11_f(p)\n",
    "    ϕ = p[1];\n",
    "    θ = p[2];\n",
    "    \n",
    "    #---------------\n",
    "    # Construct w(t)\n",
    "    #---------------\n",
    "    w = zeros(typeof(ϕ), T);\n",
    "    w[1] = y[1] -  x̄ ;\n",
    "    for t = 2:T\n",
    "        w[t] = y[t] - ϕ*y[t-1]; \n",
    "    end\n",
    "    \n",
    "    #-----------------------------\n",
    "    # Construct objective function.\n",
    "    #-----------------------------\n",
    "    H = [x == y+1 ? θ : (x == y ? 1 : 0) for x in 1:T, y in 1:T]\n",
    "    ϵ = H\\w\n",
    "    return 0.5*sum(x->x^2, ϵ)\n",
    "    \n",
    "end\n",
    "\n",
    "#----------------------------\n",
    "# Automatic differentiation\n",
    "#----------------------------\n",
    "\n",
    "function arma11_g(p; h=1e-10)\n",
    "    g = zeros(2);\n",
    "    g[1] = imag(arma11_f([p[1] + im*h, p[2]]))/h;\n",
    "    g[2] = imag(arma11_f([p[1], p[2] + im*h]))/h;\n",
    "    return g\n",
    "end\n",
    "\n",
    "function arma11_h(p; h = 1e-10)\n",
    "    H  = zeros(2,2);\n",
    "    g1 = arma11_g(p);\n",
    "    g2 = arma11_g([p[1] + h, p[2]]);\n",
    "    g3 = arma11_g([p[1], p[2] + h]);\n",
    "    H[1,1] = (g2[1] - g1[1])/h;\n",
    "    H[2,2] = (g3[2] - g1[2])/h;\n",
    "    H[1,2] = (g3[1] - g1[1])/h;\n",
    "    H[2,1] = (g2[2] - g1[2])/h;\n",
    "    return H\n",
    "end\n"
   ]
  },
  {
   "cell_type": "code",
   "execution_count": 11,
   "metadata": {},
   "outputs": [
    {
     "name": "stdout",
     "output_type": "stream",
     "text": [
      "iter   1, obj 6.24456e-01, err 7.48081e-02, ϕ 0.51,  θ 0.18720\n",
      "iter   2, obj 6.22968e-01, err 2.49676e-03, ϕ 0.52,  θ 0.12802\n",
      "iter   3, obj 6.22962e-01, err 1.93223e-05, ϕ 0.52,  θ 0.12328\n",
      "iter   4, obj 6.22962e-01, err 1.00473e-10, ϕ 0.52,  θ 0.12326\n"
     ]
    }
   ],
   "source": [
    "## Newton's method\n",
    "\n",
    "srand(777);\n",
    "itm = 100;\n",
    "tol = 1e-6;\n",
    "p   = rand(2) + 0.2;\n",
    "g   = arma11_g(p);\n",
    "h   = arma11_h(p);\n",
    "\n",
    "#-----------------------------\n",
    "# Implement Newton's method\n",
    "#-----------------------------\n",
    "\n",
    "for iter = 1:itm\n",
    "    d = h\\g;\n",
    "    α = 1.0;\n",
    "    p = p - α*d;\n",
    "    g = arma11_g(p);\n",
    "    h = arma11_h(p);\n",
    "    \n",
    "    obj = arma11_f(p);\n",
    "    err = vecnorm(g);\n",
    "    @printf(\"iter %3d, obj %1.5e, err %1.5e, ϕ %1.2f,  θ %1.5f\\n\", iter, obj, err, p[1], p[2]);\n",
    "    err < tol && break;\n",
    "end\n"
   ]
  }
 ],
 "metadata": {
  "kernelspec": {
   "display_name": "Julia 0.6.0",
   "language": "julia",
   "name": "julia-0.6"
  },
  "language_info": {
   "file_extension": ".jl",
   "mimetype": "application/julia",
   "name": "julia",
   "version": "0.6.0"
  }
 },
 "nbformat": 4,
 "nbformat_minor": 2
}
